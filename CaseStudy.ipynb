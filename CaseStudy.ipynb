{
 "cells": [
  {
   "cell_type": "markdown",
   "metadata": {},
   "source": [
    "# Case Study"
   ]
  },
  {
   "cell_type": "code",
   "execution_count": 7,
   "metadata": {},
   "outputs": [],
   "source": [
    "import pandas as pd\n",
    "import matplotlib.pyplot as plt\n",
    "import seaborn as sns\n",
    "data=pd.read_excel(\"C:/Users/USER/Downloads/Telco-Customer-Churn.xlsx\")\n"
   ]
  },
  {
   "cell_type": "raw",
   "metadata": {},
   "source": [
    "A telephone company wishes to investigate their customer churn count.\n",
    "The company wants to check the following facts.\n"
   ]
  },
  {
   "cell_type": "raw",
   "metadata": {},
   "source": [
    "1. The number of customers owns their connection based on :\n",
    "a. Gender\n",
    "b. Citizenship"
   ]
  },
  {
   "cell_type": "code",
   "execution_count": 39,
   "metadata": {},
   "outputs": [
    {
     "data": {
      "text/plain": [
       "gender\n",
       "Female    2549\n",
       "Male      2625\n",
       "Name: No, dtype: int64"
      ]
     },
     "execution_count": 39,
     "metadata": {},
     "output_type": "execute_result"
    }
   ],
   "source": [
    "#the no of customers who owns connection based on gender\n",
    "data1=pd.crosstab(data[\"Churn\"],data[\"gender\"])\n",
    "data2=data1.iloc[0]\n",
    "data2"
   ]
  },
  {
   "cell_type": "code",
   "execution_count": 37,
   "metadata": {},
   "outputs": [
    {
     "data": {
      "text/plain": [
       "<AxesSubplot:xlabel='gender', ylabel='Continued their connection'>"
      ]
     },
     "execution_count": 37,
     "metadata": {},
     "output_type": "execute_result"
    },
    {
     "data": {
      "image/png": "[encoded data removed]",
      "text/plain": [
       "<Figure size 432x288 with 1 Axes>"
      ]
     },
     "metadata": {
      "needs_background": "light"
     },
     "output_type": "display_data"
    }
   ],
   "source": [
    "data2.plot(kind=\"bar\",ylabel=\"Continued their connection\")\n",
    "#inference:Males are slightly more likely to continue with their connection than the females."
   ]
  },
  {
   "cell_type": "code",
   "execution_count": 47,
   "metadata": {},
   "outputs": [
    {
     "data": {
      "text/plain": [
       "SeniorCitizen\n",
       "0    4508\n",
       "1     666\n",
       "Name: No, dtype: int64"
      ]
     },
     "execution_count": 47,
     "metadata": {},
     "output_type": "execute_result"
    }
   ],
   "source": [
    "#the no of customers who owns connection based on citizenship\n",
    "data3=pd.crosstab(data[\"Churn\"],data[\"SeniorCitizen\"])\n",
    "data4=data3.iloc[0]\n",
    "data4"
   ]
  },
  {
   "cell_type": "code",
   "execution_count": 44,
   "metadata": {},
   "outputs": [
    {
     "data": {
      "text/plain": [
       "<AxesSubplot:xlabel='SeniorCitizen'>"
      ]
     },
     "execution_count": 44,
     "metadata": {},
     "output_type": "execute_result"
    },
    {
     "data": {
      "image/png": "[encoded data removed]",
      "text/plain": [
       "<Figure size 432x288 with 1 Axes>"
      ]
     },
     "metadata": {
      "needs_background": "light"
     },
     "output_type": "display_data"
    }
   ],
   "source": [
    "data4.plot(kind=\"bar\")\n",
    "#inference:Most of the middle aged persons continued with the connection"
   ]
  },
  {
   "cell_type": "raw",
   "metadata": {},
   "source": [
    "2. The number of customers left their service:\n",
    "a. Gender\n",
    "b. Citizenship\n"
   ]
  },
  {
   "cell_type": "code",
   "execution_count": 48,
   "metadata": {},
   "outputs": [
    {
     "data": {
      "text/plain": [
       "gender\n",
       "Female    939\n",
       "Male      930\n",
       "Name: Yes, dtype: int64"
      ]
     },
     "execution_count": 48,
     "metadata": {},
     "output_type": "execute_result"
    }
   ],
   "source": [
    "#The number of customers who left their service (based on gender) :\n",
    "data2=pd.crosstab(data[\"Churn\"],data[\"gender\"])\n",
    "data3=data2.iloc[1]\n",
    "data3\n"
   ]
  },
  {
   "cell_type": "code",
   "execution_count": 49,
   "metadata": {},
   "outputs": [
    {
     "data": {
      "text/plain": [
       "<AxesSubplot:xlabel='gender', ylabel='Churn'>"
      ]
     },
     "execution_count": 49,
     "metadata": {},
     "output_type": "execute_result"
    },
    {
     "data": {
      "image/png": "[encoded data removed]",
      "text/plain": [
       "<Figure size 432x288 with 1 Axes>"
      ]
     },
     "metadata": {
      "needs_background": "light"
     },
     "output_type": "display_data"
    }
   ],
   "source": [
    "data3.plot.bar(x=\"Churn\",y=\"Gender\",ylabel=\"Churn\")\n",
    "#out of the people who left the connection,the no of females are slightly more."
   ]
  },
  {
   "cell_type": "code",
   "execution_count": 62,
   "metadata": {},
   "outputs": [
    {
     "data": {
      "text/html": [
       "<div>\n",
       "<style scoped>\n",
       "    .dataframe tbody tr th:only-of-type {\n",
       "        vertical-align: middle;\n",
       "    }\n",
       "\n",
       "    .dataframe tbody tr th {\n",
       "        vertical-align: top;\n",
       "    }\n",
       "\n",
       "    .dataframe thead th {\n",
       "        text-align: right;\n",
       "    }\n",
       "</style>\n",
       "<table border=\"1\" class=\"dataframe\">\n",
       "  <thead>\n",
       "    <tr style=\"text-align: right;\">\n",
       "      <th>SeniorCitizen</th>\n",
       "      <th>0</th>\n",
       "      <th>1</th>\n",
       "    </tr>\n",
       "    <tr>\n",
       "      <th>Churn</th>\n",
       "      <th></th>\n",
       "      <th></th>\n",
       "    </tr>\n",
       "  </thead>\n",
       "  <tbody>\n",
       "    <tr>\n",
       "      <th>No</th>\n",
       "      <td>4508</td>\n",
       "      <td>666</td>\n",
       "    </tr>\n",
       "    <tr>\n",
       "      <th>Yes</th>\n",
       "      <td>1393</td>\n",
       "      <td>476</td>\n",
       "    </tr>\n",
       "  </tbody>\n",
       "</table>\n",
       "</div>"
      ],
      "text/plain": [
       "SeniorCitizen     0    1\n",
       "Churn                   \n",
       "No             4508  666\n",
       "Yes            1393  476"
      ]
     },
     "execution_count": 62,
     "metadata": {},
     "output_type": "execute_result"
    }
   ],
   "source": [
    "#The number of customers left their service(based on Citizenship)\n",
    "data4=pd.crosstab(data[\"Churn\"],data[\"SeniorCitizen\"])\n",
    "data4"
   ]
  },
  {
   "cell_type": "code",
   "execution_count": 63,
   "metadata": {},
   "outputs": [
    {
     "data": {
      "text/plain": [
       "SeniorCitizen\n",
       "0    1393\n",
       "1     476\n",
       "Name: Yes, dtype: int64"
      ]
     },
     "execution_count": 63,
     "metadata": {},
     "output_type": "execute_result"
    }
   ],
   "source": [
    "data5=data4.iloc[1]\n",
    "data5"
   ]
  },
  {
   "cell_type": "code",
   "execution_count": 54,
   "metadata": {},
   "outputs": [
    {
     "data": {
      "text/plain": [
       "<AxesSubplot:xlabel='SeniorCitizen'>"
      ]
     },
     "execution_count": 54,
     "metadata": {},
     "output_type": "execute_result"
    },
    {
     "data": {
      "image/png": "[encoded data removed]",
      "text/plain": [
       "<Figure size 432x288 with 1 Axes>"
      ]
     },
     "metadata": {
      "needs_background": "light"
     },
     "output_type": "display_data"
    }
   ],
   "source": [
    "data5.plot(kind=\"bar\")"
   ]
  },
  {
   "cell_type": "raw",
   "metadata": {},
   "source": [
    "3. Preference of payment method based on :\n",
    "a. Churn\n",
    "b. Contract"
   ]
  },
  {
   "cell_type": "code",
   "execution_count": 76,
   "metadata": {},
   "outputs": [
    {
     "data": {
      "text/html": [
       "<div>\n",
       "<style scoped>\n",
       "    .dataframe tbody tr th:only-of-type {\n",
       "        vertical-align: middle;\n",
       "    }\n",
       "\n",
       "    .dataframe tbody tr th {\n",
       "        vertical-align: top;\n",
       "    }\n",
       "\n",
       "    .dataframe thead th {\n",
       "        text-align: right;\n",
       "    }\n",
       "</style>\n",
       "<table border=\"1\" class=\"dataframe\">\n",
       "  <thead>\n",
       "    <tr style=\"text-align: right;\">\n",
       "      <th>PaymentMethod</th>\n",
       "      <th>Bank transfer (automatic)</th>\n",
       "      <th>Credit card (automatic)</th>\n",
       "      <th>Electronic check</th>\n",
       "      <th>Mailed check</th>\n",
       "    </tr>\n",
       "    <tr>\n",
       "      <th>Churn</th>\n",
       "      <th></th>\n",
       "      <th></th>\n",
       "      <th></th>\n",
       "      <th></th>\n",
       "    </tr>\n",
       "  </thead>\n",
       "  <tbody>\n",
       "    <tr>\n",
       "      <th>No</th>\n",
       "      <td>1286</td>\n",
       "      <td>1290</td>\n",
       "      <td>1294</td>\n",
       "      <td>1304</td>\n",
       "    </tr>\n",
       "    <tr>\n",
       "      <th>Yes</th>\n",
       "      <td>258</td>\n",
       "      <td>232</td>\n",
       "      <td>1071</td>\n",
       "      <td>308</td>\n",
       "    </tr>\n",
       "  </tbody>\n",
       "</table>\n",
       "</div>"
      ],
      "text/plain": [
       "PaymentMethod  Bank transfer (automatic)  Credit card (automatic)  \\\n",
       "Churn                                                               \n",
       "No                                  1286                     1290   \n",
       "Yes                                  258                      232   \n",
       "\n",
       "PaymentMethod  Electronic check  Mailed check  \n",
       "Churn                                          \n",
       "No                         1294          1304  \n",
       "Yes                        1071           308  "
      ]
     },
     "execution_count": 76,
     "metadata": {},
     "output_type": "execute_result"
    }
   ],
   "source": [
    "\n",
    "#Preference of payment method based on churn\n",
    "data9=pd.crosstab(data[\"Churn\"],data[\"PaymentMethod\"])\n",
    "data9"
   ]
  },
  {
   "cell_type": "code",
   "execution_count": 75,
   "metadata": {},
   "outputs": [
    {
     "data": {
      "text/plain": [
       "<AxesSubplot:xlabel='Churn'>"
      ]
     },
     "execution_count": 75,
     "metadata": {},
     "output_type": "execute_result"
    },
    {
     "data": {
      "image/png": "[encoded data removed]",
      "text/plain": [
       "<Figure size 432x288 with 1 Axes>"
      ]
     },
     "metadata": {
      "needs_background": "light"
     },
     "output_type": "display_data"
    }
   ],
   "source": [
    "data9.plot(kind=\"bar\")"
   ]
  },
  {
   "cell_type": "code",
   "execution_count": 72,
   "metadata": {},
   "outputs": [
    {
     "data": {
      "text/html": [
       "<div>\n",
       "<style scoped>\n",
       "    .dataframe tbody tr th:only-of-type {\n",
       "        vertical-align: middle;\n",
       "    }\n",
       "\n",
       "    .dataframe tbody tr th {\n",
       "        vertical-align: top;\n",
       "    }\n",
       "\n",
       "    .dataframe thead th {\n",
       "        text-align: right;\n",
       "    }\n",
       "</style>\n",
       "<table border=\"1\" class=\"dataframe\">\n",
       "  <thead>\n",
       "    <tr style=\"text-align: right;\">\n",
       "      <th>Churn</th>\n",
       "      <th>No</th>\n",
       "      <th>Yes</th>\n",
       "    </tr>\n",
       "    <tr>\n",
       "      <th>PaymentMethod</th>\n",
       "      <th></th>\n",
       "      <th></th>\n",
       "    </tr>\n",
       "  </thead>\n",
       "  <tbody>\n",
       "    <tr>\n",
       "      <th>Bank transfer (automatic)</th>\n",
       "      <td>1286</td>\n",
       "      <td>258</td>\n",
       "    </tr>\n",
       "    <tr>\n",
       "      <th>Credit card (automatic)</th>\n",
       "      <td>1290</td>\n",
       "      <td>232</td>\n",
       "    </tr>\n",
       "    <tr>\n",
       "      <th>Electronic check</th>\n",
       "      <td>1294</td>\n",
       "      <td>1071</td>\n",
       "    </tr>\n",
       "    <tr>\n",
       "      <th>Mailed check</th>\n",
       "      <td>1304</td>\n",
       "      <td>308</td>\n",
       "    </tr>\n",
       "  </tbody>\n",
       "</table>\n",
       "</div>"
      ],
      "text/plain": [
       "Churn                        No   Yes\n",
       "PaymentMethod                        \n",
       "Bank transfer (automatic)  1286   258\n",
       "Credit card (automatic)    1290   232\n",
       "Electronic check           1294  1071\n",
       "Mailed check               1304   308"
      ]
     },
     "execution_count": 72,
     "metadata": {},
     "output_type": "execute_result"
    }
   ],
   "source": [
    "\n",
    "data10=pd.crosstab(data[\"PaymentMethod\"],data[\"Churn\"])\n",
    "data10\n",
    "#inference:most of the people who chose bank transfer as payment method retained the connetcion.the same pattern is seen in credit caed payment and mailed chechk."
   ]
  },
  {
   "cell_type": "code",
   "execution_count": 73,
   "metadata": {},
   "outputs": [
    {
     "data": {
      "text/plain": [
       "<AxesSubplot:xlabel='PaymentMethod'>"
      ]
     },
     "execution_count": 73,
     "metadata": {},
     "output_type": "execute_result"
    },
    {
     "data": {
      "image/png": "[encoded data removed]",
      "text/plain": [
       "<Figure size 432x288 with 1 Axes>"
      ]
     },
     "metadata": {
      "needs_background": "light"
     },
     "output_type": "display_data"
    }
   ],
   "source": [
    "data10.plot(kind=\"bar\")"
   ]
  },
  {
   "cell_type": "code",
   "execution_count": 77,
   "metadata": {},
   "outputs": [
    {
     "data": {
      "text/html": [
       "<div>\n",
       "<style scoped>\n",
       "    .dataframe tbody tr th:only-of-type {\n",
       "        vertical-align: middle;\n",
       "    }\n",
       "\n",
       "    .dataframe tbody tr th {\n",
       "        vertical-align: top;\n",
       "    }\n",
       "\n",
       "    .dataframe thead th {\n",
       "        text-align: right;\n",
       "    }\n",
       "</style>\n",
       "<table border=\"1\" class=\"dataframe\">\n",
       "  <thead>\n",
       "    <tr style=\"text-align: right;\">\n",
       "      <th>PaymentMethod</th>\n",
       "      <th>Bank transfer (automatic)</th>\n",
       "      <th>Credit card (automatic)</th>\n",
       "      <th>Electronic check</th>\n",
       "      <th>Mailed check</th>\n",
       "    </tr>\n",
       "    <tr>\n",
       "      <th>Contract</th>\n",
       "      <th></th>\n",
       "      <th></th>\n",
       "      <th></th>\n",
       "      <th></th>\n",
       "    </tr>\n",
       "  </thead>\n",
       "  <tbody>\n",
       "    <tr>\n",
       "      <th>Month-to-month</th>\n",
       "      <td>589</td>\n",
       "      <td>543</td>\n",
       "      <td>1850</td>\n",
       "      <td>893</td>\n",
       "    </tr>\n",
       "    <tr>\n",
       "      <th>One year</th>\n",
       "      <td>391</td>\n",
       "      <td>398</td>\n",
       "      <td>347</td>\n",
       "      <td>337</td>\n",
       "    </tr>\n",
       "    <tr>\n",
       "      <th>Two year</th>\n",
       "      <td>564</td>\n",
       "      <td>581</td>\n",
       "      <td>168</td>\n",
       "      <td>382</td>\n",
       "    </tr>\n",
       "  </tbody>\n",
       "</table>\n",
       "</div>"
      ],
      "text/plain": [
       "PaymentMethod   Bank transfer (automatic)  Credit card (automatic)  \\\n",
       "Contract                                                             \n",
       "Month-to-month                        589                      543   \n",
       "One year                              391                      398   \n",
       "Two year                              564                      581   \n",
       "\n",
       "PaymentMethod   Electronic check  Mailed check  \n",
       "Contract                                        \n",
       "Month-to-month              1850           893  \n",
       "One year                     347           337  \n",
       "Two year                     168           382  "
      ]
     },
     "execution_count": 77,
     "metadata": {},
     "output_type": "execute_result"
    }
   ],
   "source": [
    "#Preference of payment method based on contract\n",
    "data11=pd.crosstab(data[\"Contract\"],data[\"PaymentMethod\"])\n",
    "data11\n",
    "#inference:most of the people who pay on a monthly basis pay by electronic check."
   ]
  },
  {
   "cell_type": "code",
   "execution_count": 78,
   "metadata": {},
   "outputs": [
    {
     "data": {
      "text/plain": [
       "<AxesSubplot:xlabel='Contract'>"
      ]
     },
     "execution_count": 78,
     "metadata": {},
     "output_type": "execute_result"
    },
    {
     "data": {
      "image/png": "[encoded data removed]",
      "text/plain": [
       "<Figure size 432x288 with 1 Axes>"
      ]
     },
     "metadata": {
      "needs_background": "light"
     },
     "output_type": "display_data"
    }
   ],
   "source": [
    "data11.plot(kind=\"bar\")"
   ]
  },
  {
   "cell_type": "code",
   "execution_count": null,
   "metadata": {},
   "outputs": [],
   "source": []
  },
  {
   "cell_type": "raw",
   "metadata": {},
   "source": [
    "4. Internet service preference by gender based on churn status.\n"
   ]
  },
  {
   "cell_type": "code",
   "execution_count": 23,
   "metadata": {},
   "outputs": [
    {
     "data": {
      "text/plain": [
       "<AxesSubplot:xlabel='InternetService,gender'>"
      ]
     },
     "execution_count": 23,
     "metadata": {},
     "output_type": "execute_result"
    },
    {
     "data": {
      "image/png": "[encoded data removed]",
      "text/plain": [
       "<Figure size 432x288 with 1 Axes>"
      ]
     },
     "metadata": {
      "needs_background": "light"
     },
     "output_type": "display_data"
    }
   ],
   "source": [
    "pd.crosstab([data.InternetService,data.gender],data.Churn).plot(kind=\"bar\")\n"
   ]
  },
  {
   "cell_type": "code",
   "execution_count": 79,
   "metadata": {},
   "outputs": [
    {
     "data": {
      "text/plain": [
       "<AxesSubplot:xlabel='Churn'>"
      ]
     },
     "execution_count": 79,
     "metadata": {},
     "output_type": "execute_result"
    },
    {
     "data": {
      "image/png": "[encoded data removed]",
      "text/plain": [
       "<Figure size 432x288 with 1 Axes>"
      ]
     },
     "metadata": {
      "needs_background": "light"
     },
     "output_type": "display_data"
    }
   ],
   "source": [
    "pd.crosstab(data.Churn,[data.InternetService,data.gender]).plot(kind=\"bar\")\n",
    "#of the people who disconnected "
   ]
  },
  {
   "cell_type": "code",
   "execution_count": null,
   "metadata": {},
   "outputs": [],
   "source": [
    "5. Explain the descriptive statistics of “TotalCharges” based on:\n",
    "a. Gender\n",
    "b. Contract\n",
    "c. Payment Method"
   ]
  },
  {
   "cell_type": "code",
   "execution_count": 32,
   "metadata": {},
   "outputs": [
    {
     "data": {
      "text/html": [
       "<div>\n",
       "<style scoped>\n",
       "    .dataframe tbody tr th:only-of-type {\n",
       "        vertical-align: middle;\n",
       "    }\n",
       "\n",
       "    .dataframe tbody tr th {\n",
       "        vertical-align: top;\n",
       "    }\n",
       "\n",
       "    .dataframe thead th {\n",
       "        text-align: right;\n",
       "    }\n",
       "</style>\n",
       "<table border=\"1\" class=\"dataframe\">\n",
       "  <thead>\n",
       "    <tr style=\"text-align: right;\">\n",
       "      <th></th>\n",
       "      <th>count</th>\n",
       "      <th>mean</th>\n",
       "      <th>std</th>\n",
       "      <th>min</th>\n",
       "      <th>25%</th>\n",
       "      <th>50%</th>\n",
       "      <th>75%</th>\n",
       "      <th>max</th>\n",
       "    </tr>\n",
       "    <tr>\n",
       "      <th>PaymentMethod</th>\n",
       "      <th></th>\n",
       "      <th></th>\n",
       "      <th></th>\n",
       "      <th></th>\n",
       "      <th></th>\n",
       "      <th></th>\n",
       "      <th></th>\n",
       "      <th></th>\n",
       "    </tr>\n",
       "  </thead>\n",
       "  <tbody>\n",
       "    <tr>\n",
       "      <th>Bank transfer (automatic)</th>\n",
       "      <td>1544.0</td>\n",
       "      <td>3083.566023</td>\n",
       "      <td>2360.362773</td>\n",
       "      <td>19.25</td>\n",
       "      <td>1052.3875</td>\n",
       "      <td>2479.500</td>\n",
       "      <td>4948.3375</td>\n",
       "      <td>8684.80</td>\n",
       "    </tr>\n",
       "    <tr>\n",
       "      <th>Credit card (automatic)</th>\n",
       "      <td>1522.0</td>\n",
       "      <td>3074.920894</td>\n",
       "      <td>2410.536742</td>\n",
       "      <td>19.30</td>\n",
       "      <td>989.4000</td>\n",
       "      <td>2454.175</td>\n",
       "      <td>5016.5500</td>\n",
       "      <td>8670.10</td>\n",
       "    </tr>\n",
       "    <tr>\n",
       "      <th>Electronic check</th>\n",
       "      <td>2365.0</td>\n",
       "      <td>2090.868182</td>\n",
       "      <td>2155.435320</td>\n",
       "      <td>18.85</td>\n",
       "      <td>308.0500</td>\n",
       "      <td>1253.900</td>\n",
       "      <td>3340.5500</td>\n",
       "      <td>8564.75</td>\n",
       "    </tr>\n",
       "    <tr>\n",
       "      <th>Mailed check</th>\n",
       "      <td>1612.0</td>\n",
       "      <td>1083.236973</td>\n",
       "      <td>1509.101844</td>\n",
       "      <td>18.80</td>\n",
       "      <td>116.9375</td>\n",
       "      <td>473.675</td>\n",
       "      <td>1316.0000</td>\n",
       "      <td>8476.50</td>\n",
       "    </tr>\n",
       "  </tbody>\n",
       "</table>\n",
       "</div>"
      ],
      "text/plain": [
       "                            count         mean          std    min        25%  \\\n",
       "PaymentMethod                                                                   \n",
       "Bank transfer (automatic)  1544.0  3083.566023  2360.362773  19.25  1052.3875   \n",
       "Credit card (automatic)    1522.0  3074.920894  2410.536742  19.30   989.4000   \n",
       "Electronic check           2365.0  2090.868182  2155.435320  18.85   308.0500   \n",
       "Mailed check               1612.0  1083.236973  1509.101844  18.80   116.9375   \n",
       "\n",
       "                                50%        75%      max  \n",
       "PaymentMethod                                            \n",
       "Bank transfer (automatic)  2479.500  4948.3375  8684.80  \n",
       "Credit card (automatic)    2454.175  5016.5500  8670.10  \n",
       "Electronic check           1253.900  3340.5500  8564.75  \n",
       "Mailed check                473.675  1316.0000  8476.50  "
      ]
     },
     "execution_count": 32,
     "metadata": {},
     "output_type": "execute_result"
    }
   ],
   "source": [
    "Total_Charge_df=data.TotalCharges\n",
    "Total_Charge_df"
   ]
  },
  {
   "cell_type": "code",
   "execution_count": null,
   "metadata": {},
   "outputs": [],
   "source": [
    "gender_df=data.gender\n",
    "gender_df\n",
    "Total_Charge_df.groupby(gender_df).describe()\n",
    "sns.boxplot(x=data[\"gender\"],y=data[\"TotalCharges\"])"
   ]
  },
  {
   "cell_type": "code",
   "execution_count": 81,
   "metadata": {},
   "outputs": [
    {
     "data": {
      "text/plain": [
       "<AxesSubplot:xlabel='Contract', ylabel='TotalCharges'>"
      ]
     },
     "execution_count": 81,
     "metadata": {},
     "output_type": "execute_result"
    },
    {
     "data": {
      "image/png": "[encoded data removed]",
      "text/plain": [
       "<Figure size 432x288 with 1 Axes>"
      ]
     },
     "metadata": {
      "needs_background": "light"
     },
     "output_type": "display_data"
    }
   ],
   "source": [
    "Contract_df=data.Contract\n",
    "Contract_df\n",
    "Total_Charge_df.groupby(Contract_df).describe()\n",
    "sns.boxplot(x=data[\"Contract\"],y=data[\"TotalCharges\"])"
   ]
  },
  {
   "cell_type": "code",
   "execution_count": 82,
   "metadata": {},
   "outputs": [
    {
     "data": {
      "text/html": [
       "<div>\n",
       "<style scoped>\n",
       "    .dataframe tbody tr th:only-of-type {\n",
       "        vertical-align: middle;\n",
       "    }\n",
       "\n",
       "    .dataframe tbody tr th {\n",
       "        vertical-align: top;\n",
       "    }\n",
       "\n",
       "    .dataframe thead th {\n",
       "        text-align: right;\n",
       "    }\n",
       "</style>\n",
       "<table border=\"1\" class=\"dataframe\">\n",
       "  <thead>\n",
       "    <tr style=\"text-align: right;\">\n",
       "      <th></th>\n",
       "      <th>count</th>\n",
       "      <th>mean</th>\n",
       "      <th>std</th>\n",
       "      <th>min</th>\n",
       "      <th>25%</th>\n",
       "      <th>50%</th>\n",
       "      <th>75%</th>\n",
       "      <th>max</th>\n",
       "    </tr>\n",
       "    <tr>\n",
       "      <th>PaymentMethod</th>\n",
       "      <th></th>\n",
       "      <th></th>\n",
       "      <th></th>\n",
       "      <th></th>\n",
       "      <th></th>\n",
       "      <th></th>\n",
       "      <th></th>\n",
       "      <th></th>\n",
       "    </tr>\n",
       "  </thead>\n",
       "  <tbody>\n",
       "    <tr>\n",
       "      <th>Bank transfer (automatic)</th>\n",
       "      <td>1544.0</td>\n",
       "      <td>3083.566023</td>\n",
       "      <td>2360.362773</td>\n",
       "      <td>19.25</td>\n",
       "      <td>1052.3875</td>\n",
       "      <td>2479.500</td>\n",
       "      <td>4948.3375</td>\n",
       "      <td>8684.80</td>\n",
       "    </tr>\n",
       "    <tr>\n",
       "      <th>Credit card (automatic)</th>\n",
       "      <td>1522.0</td>\n",
       "      <td>3074.920894</td>\n",
       "      <td>2410.536742</td>\n",
       "      <td>19.30</td>\n",
       "      <td>989.4000</td>\n",
       "      <td>2454.175</td>\n",
       "      <td>5016.5500</td>\n",
       "      <td>8670.10</td>\n",
       "    </tr>\n",
       "    <tr>\n",
       "      <th>Electronic check</th>\n",
       "      <td>2365.0</td>\n",
       "      <td>2090.868182</td>\n",
       "      <td>2155.435320</td>\n",
       "      <td>18.85</td>\n",
       "      <td>308.0500</td>\n",
       "      <td>1253.900</td>\n",
       "      <td>3340.5500</td>\n",
       "      <td>8564.75</td>\n",
       "    </tr>\n",
       "    <tr>\n",
       "      <th>Mailed check</th>\n",
       "      <td>1612.0</td>\n",
       "      <td>1083.236973</td>\n",
       "      <td>1509.101844</td>\n",
       "      <td>18.80</td>\n",
       "      <td>116.9375</td>\n",
       "      <td>473.675</td>\n",
       "      <td>1316.0000</td>\n",
       "      <td>8476.50</td>\n",
       "    </tr>\n",
       "  </tbody>\n",
       "</table>\n",
       "</div>"
      ],
      "text/plain": [
       "                            count         mean          std    min        25%  \\\n",
       "PaymentMethod                                                                   \n",
       "Bank transfer (automatic)  1544.0  3083.566023  2360.362773  19.25  1052.3875   \n",
       "Credit card (automatic)    1522.0  3074.920894  2410.536742  19.30   989.4000   \n",
       "Electronic check           2365.0  2090.868182  2155.435320  18.85   308.0500   \n",
       "Mailed check               1612.0  1083.236973  1509.101844  18.80   116.9375   \n",
       "\n",
       "                                50%        75%      max  \n",
       "PaymentMethod                                            \n",
       "Bank transfer (automatic)  2479.500  4948.3375  8684.80  \n",
       "Credit card (automatic)    2454.175  5016.5500  8670.10  \n",
       "Electronic check           1253.900  3340.5500  8564.75  \n",
       "Mailed check                473.675  1316.0000  8476.50  "
      ]
     },
     "execution_count": 82,
     "metadata": {},
     "output_type": "execute_result"
    }
   ],
   "source": [
    "\n",
    "PaymentMethod_df=data.PaymentMethod\n",
    "Total_Charge_df.groupby(PaymentMethod_df).describe()"
   ]
  },
  {
   "cell_type": "code",
   "execution_count": null,
   "metadata": {},
   "outputs": [],
   "source": []
  }
 ],
 "metadata": {
  "kernelspec": {
   "display_name": "Python 3",
   "language": "python",
   "name": "python3"
  },
  "language_info": {
   "codemirror_mode": {
    "name": "ipython",
    "version": 3
   },
   "file_extension": ".py",
   "mimetype": "text/x-python",
   "name": "python",
   "nbconvert_exporter": "python",
   "pygments_lexer": "ipython3",
   "version": "3.8.5"
  }
 },
 "nbformat": 4,
 "nbformat_minor": 4
}
